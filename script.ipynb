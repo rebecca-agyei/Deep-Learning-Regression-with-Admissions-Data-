{
  "nbformat": 4,
  "nbformat_minor": 0,
  "metadata": {
    "colab": {
      "name": "script.ipynb",
      "provenance": [],
      "collapsed_sections": []
    },
    "kernelspec": {
      "name": "python3",
      "display_name": "Python 3"
    },
    "language_info": {
      "name": "python"
    }
  },
  "cells": [
    {
      "cell_type": "code",
      "metadata": {
        "id": "ytbmFc-uxfVJ"
      },
      "source": [
        "import pandas as pd\n",
        "import numpy as np\n",
        "import matplotlib.pyplot as plt\n",
        "\n",
        "import tensorflow as tf\n",
        "from tensorflow\timport keras\n",
        "from tensorflow.keras.models import Sequential\n",
        "from tensorflow.keras.callbacks import EarlyStopping\n",
        "from tensorflow.keras import layers\n",
        "\n",
        "from sklearn.model_selection import train_test_split\n",
        "from sklearn.preprocessing import StandardScaler\n",
        "from sklearn.preprocessing import Normalizer\n",
        "from sklearn.compose import ColumnTransformer\n",
        "from sklearn.metrics import r2_score"
      ],
      "execution_count": 9,
      "outputs": []
    },
    {
      "cell_type": "code",
      "metadata": {
        "colab": {
          "base_uri": "https://localhost:8080/",
          "height": 204
        },
        "id": "l4ae3UmIz6tv",
        "outputId": "86e29d7f-9cdd-4008-faad-4530dc546b06"
      },
      "source": [
        "\n",
        "df = pd.read_csv('admissions_data.csv')\n",
        "df.head()"
      ],
      "execution_count": 2,
      "outputs": [
        {
          "output_type": "execute_result",
          "data": {
            "text/html": [
              "<div>\n",
              "<style scoped>\n",
              "    .dataframe tbody tr th:only-of-type {\n",
              "        vertical-align: middle;\n",
              "    }\n",
              "\n",
              "    .dataframe tbody tr th {\n",
              "        vertical-align: top;\n",
              "    }\n",
              "\n",
              "    .dataframe thead th {\n",
              "        text-align: right;\n",
              "    }\n",
              "</style>\n",
              "<table border=\"1\" class=\"dataframe\">\n",
              "  <thead>\n",
              "    <tr style=\"text-align: right;\">\n",
              "      <th></th>\n",
              "      <th>Serial No.</th>\n",
              "      <th>GRE Score</th>\n",
              "      <th>TOEFL Score</th>\n",
              "      <th>University Rating</th>\n",
              "      <th>SOP</th>\n",
              "      <th>LOR</th>\n",
              "      <th>CGPA</th>\n",
              "      <th>Research</th>\n",
              "      <th>Chance of Admit</th>\n",
              "    </tr>\n",
              "  </thead>\n",
              "  <tbody>\n",
              "    <tr>\n",
              "      <th>0</th>\n",
              "      <td>1</td>\n",
              "      <td>337</td>\n",
              "      <td>118</td>\n",
              "      <td>4</td>\n",
              "      <td>4.5</td>\n",
              "      <td>4.5</td>\n",
              "      <td>9.65</td>\n",
              "      <td>1</td>\n",
              "      <td>0.92</td>\n",
              "    </tr>\n",
              "    <tr>\n",
              "      <th>1</th>\n",
              "      <td>2</td>\n",
              "      <td>324</td>\n",
              "      <td>107</td>\n",
              "      <td>4</td>\n",
              "      <td>4.0</td>\n",
              "      <td>4.5</td>\n",
              "      <td>8.87</td>\n",
              "      <td>1</td>\n",
              "      <td>0.76</td>\n",
              "    </tr>\n",
              "    <tr>\n",
              "      <th>2</th>\n",
              "      <td>3</td>\n",
              "      <td>316</td>\n",
              "      <td>104</td>\n",
              "      <td>3</td>\n",
              "      <td>3.0</td>\n",
              "      <td>3.5</td>\n",
              "      <td>8.00</td>\n",
              "      <td>1</td>\n",
              "      <td>0.72</td>\n",
              "    </tr>\n",
              "    <tr>\n",
              "      <th>3</th>\n",
              "      <td>4</td>\n",
              "      <td>322</td>\n",
              "      <td>110</td>\n",
              "      <td>3</td>\n",
              "      <td>3.5</td>\n",
              "      <td>2.5</td>\n",
              "      <td>8.67</td>\n",
              "      <td>1</td>\n",
              "      <td>0.80</td>\n",
              "    </tr>\n",
              "    <tr>\n",
              "      <th>4</th>\n",
              "      <td>5</td>\n",
              "      <td>314</td>\n",
              "      <td>103</td>\n",
              "      <td>2</td>\n",
              "      <td>2.0</td>\n",
              "      <td>3.0</td>\n",
              "      <td>8.21</td>\n",
              "      <td>0</td>\n",
              "      <td>0.65</td>\n",
              "    </tr>\n",
              "  </tbody>\n",
              "</table>\n",
              "</div>"
            ],
            "text/plain": [
              "   Serial No.  GRE Score  TOEFL Score  ...  CGPA  Research  Chance of Admit \n",
              "0           1        337          118  ...  9.65         1              0.92\n",
              "1           2        324          107  ...  8.87         1              0.76\n",
              "2           3        316          104  ...  8.00         1              0.72\n",
              "3           4        322          110  ...  8.67         1              0.80\n",
              "4           5        314          103  ...  8.21         0              0.65\n",
              "\n",
              "[5 rows x 9 columns]"
            ]
          },
          "metadata": {},
          "execution_count": 2
        }
      ]
    },
    {
      "cell_type": "code",
      "metadata": {
        "colab": {
          "base_uri": "https://localhost:8080/"
        },
        "id": "TZjVIhD50Yyp",
        "outputId": "e1bdd110-ae1f-460f-8d1a-fc4cf82a5a9b"
      },
      "source": [
        "df.info() # this dataset contains only integers and floats"
      ],
      "execution_count": 4,
      "outputs": [
        {
          "output_type": "stream",
          "name": "stdout",
          "text": [
            "<class 'pandas.core.frame.DataFrame'>\n",
            "RangeIndex: 500 entries, 0 to 499\n",
            "Data columns (total 9 columns):\n",
            " #   Column             Non-Null Count  Dtype  \n",
            "---  ------             --------------  -----  \n",
            " 0   Serial No.         500 non-null    int64  \n",
            " 1   GRE Score          500 non-null    int64  \n",
            " 2   TOEFL Score        500 non-null    int64  \n",
            " 3   University Rating  500 non-null    int64  \n",
            " 4   SOP                500 non-null    float64\n",
            " 5   LOR                500 non-null    float64\n",
            " 6   CGPA               500 non-null    float64\n",
            " 7   Research           500 non-null    int64  \n",
            " 8   Chance of Admit    500 non-null    float64\n",
            "dtypes: float64(4), int64(5)\n",
            "memory usage: 35.3 KB\n"
          ]
        }
      ]
    },
    {
      "cell_type": "code",
      "metadata": {
        "id": "-TX0PFOX0nEh"
      },
      "source": [
        "# Selecting features and labels\n",
        "\n",
        "feature = df.iloc[:, 1:-1]   # note that the column Serial No. was not included because it represents the index of each row\n",
        "\n",
        "labels = df.iloc[:, -1]"
      ],
      "execution_count": 6,
      "outputs": []
    },
    {
      "cell_type": "code",
      "metadata": {
        "id": "MIA8rzhz19vL"
      },
      "source": [
        "# Splitting the dataset into test and train data\n",
        "\n",
        "features_train, features_test, labels_train, labels_test = train_test_split(feature, labels, test_size = 0.20, random_state=1)"
      ],
      "execution_count": 7,
      "outputs": []
    },
    {
      "cell_type": "code",
      "metadata": {
        "id": "LbLb0EVd2Roe"
      },
      "source": [
        "# Standardizing data\n",
        "\n",
        "numerical_features = feature.select_dtypes(include=['float64', 'int64'])\n",
        "\n",
        "numerical_columns = numerical_features.columns\n",
        "\n",
        "ct = ColumnTransformer([(\"only numeric\", StandardScaler(), numerical_columns)], remainder='passthrough')\n",
        "\n",
        "features_train_scaled = ct.fit_transform(features_train)\n",
        "features_test_scaled = ct.transform(features_test)"
      ],
      "execution_count": 10,
      "outputs": []
    },
    {
      "cell_type": "code",
      "metadata": {
        "colab": {
          "base_uri": "https://localhost:8080/"
        },
        "id": "JO8Z9LuE26wC",
        "outputId": "0e850cdb-84a7-4012-d572-5fdda1c1e358"
      },
      "source": [
        "from tensorflow.keras.layers import InputLayer\n",
        "from tensorflow.keras.layers import Dense\n",
        "from tensorflow.keras.optimizers import Adam\n",
        "\n",
        "def model_function():\n",
        "    # initializing the model \n",
        "    model = Sequential()\n",
        "\n",
        "    # create input layer with shape of number of features\n",
        "    input = InputLayer(input_shape = (feature.shape[1], ))\n",
        "    model.add(input)\n",
        "\n",
        "    # add hidden layer with 64 units\n",
        "    model.add(Dense(64, activation = \"relu\"))\n",
        "    \n",
        "\n",
        "    # adding an output layer with 1 output\n",
        "    model.add(Dense(1))\n",
        "    \n",
        "    \n",
        "    # Creating an instance of the Adam optimizer with the learning rate equal to 0.01\n",
        "    opt = Adam(learning_rate = 0.01)\n",
        "\n",
        "    #  compiling the model\n",
        "    model.compile(loss = 'mse', metrics = ['mae'], optimizer = opt)\n",
        "\n",
        "    # Fitting the model\n",
        "    history = model.fit(features_train_scaled, labels_train, epochs = 45, batch_size = 4, verbose = 1)\n",
        "    \n",
        "    \n",
        "    predicted_values = my_model.predict(features_test_scaled) \n",
        "    print('R squared =', r2_score(labels_test, predicted_values))\n",
        "    \n",
        "model_function"
      ],
      "execution_count": 16,
      "outputs": [
        {
          "output_type": "stream",
          "name": "stdout",
          "text": [
            "Epoch 1/45\n",
            "100/100 [==============================] - 0s 1ms/step - loss: 0.0387 - mae: 0.1320\n",
            "Epoch 2/45\n",
            "100/100 [==============================] - 0s 1ms/step - loss: 0.0089 - mae: 0.0749\n",
            "Epoch 3/45\n",
            "100/100 [==============================] - 0s 1ms/step - loss: 0.0075 - mae: 0.0669\n",
            "Epoch 4/45\n",
            "100/100 [==============================] - 0s 1ms/step - loss: 0.0109 - mae: 0.0842\n",
            "Epoch 5/45\n",
            "100/100 [==============================] - 0s 2ms/step - loss: 0.0060 - mae: 0.0597\n",
            "Epoch 6/45\n",
            "100/100 [==============================] - 0s 1ms/step - loss: 0.0051 - mae: 0.0567\n",
            "Epoch 7/45\n",
            "100/100 [==============================] - 0s 1ms/step - loss: 0.0057 - mae: 0.0579\n",
            "Epoch 8/45\n",
            "100/100 [==============================] - 0s 1ms/step - loss: 0.0066 - mae: 0.0639\n",
            "Epoch 9/45\n",
            "100/100 [==============================] - 0s 1ms/step - loss: 0.0053 - mae: 0.0562\n",
            "Epoch 10/45\n",
            "100/100 [==============================] - 0s 1ms/step - loss: 0.0059 - mae: 0.0586\n",
            "Epoch 11/45\n",
            "100/100 [==============================] - 0s 1ms/step - loss: 0.0046 - mae: 0.0514\n",
            "Epoch 12/45\n",
            "100/100 [==============================] - 0s 1ms/step - loss: 0.0049 - mae: 0.0546\n",
            "Epoch 13/45\n",
            "100/100 [==============================] - 0s 1ms/step - loss: 0.0043 - mae: 0.0498\n",
            "Epoch 14/45\n",
            "100/100 [==============================] - 0s 2ms/step - loss: 0.0046 - mae: 0.0509\n",
            "Epoch 15/45\n",
            "100/100 [==============================] - 0s 1ms/step - loss: 0.0043 - mae: 0.0496\n",
            "Epoch 16/45\n",
            "100/100 [==============================] - 0s 1ms/step - loss: 0.0048 - mae: 0.0527\n",
            "Epoch 17/45\n",
            "100/100 [==============================] - 0s 1ms/step - loss: 0.0048 - mae: 0.0528\n",
            "Epoch 18/45\n",
            "100/100 [==============================] - 0s 1ms/step - loss: 0.0037 - mae: 0.0451\n",
            "Epoch 19/45\n",
            "100/100 [==============================] - 0s 1ms/step - loss: 0.0041 - mae: 0.0490\n",
            "Epoch 20/45\n",
            "100/100 [==============================] - 0s 1ms/step - loss: 0.0038 - mae: 0.0465\n",
            "Epoch 21/45\n",
            "100/100 [==============================] - 0s 1ms/step - loss: 0.0041 - mae: 0.0483\n",
            "Epoch 22/45\n",
            "100/100 [==============================] - 0s 1ms/step - loss: 0.0045 - mae: 0.0507\n",
            "Epoch 23/45\n",
            "100/100 [==============================] - 0s 1ms/step - loss: 0.0039 - mae: 0.0471\n",
            "Epoch 24/45\n",
            "100/100 [==============================] - 0s 2ms/step - loss: 0.0051 - mae: 0.0543\n",
            "Epoch 25/45\n",
            "100/100 [==============================] - 0s 2ms/step - loss: 0.0041 - mae: 0.0469\n",
            "Epoch 26/45\n",
            "100/100 [==============================] - 0s 1ms/step - loss: 0.0043 - mae: 0.0495\n",
            "Epoch 27/45\n",
            "100/100 [==============================] - 0s 2ms/step - loss: 0.0039 - mae: 0.0468\n",
            "Epoch 28/45\n",
            "100/100 [==============================] - 0s 1ms/step - loss: 0.0040 - mae: 0.0460\n",
            "Epoch 29/45\n",
            "100/100 [==============================] - 0s 1ms/step - loss: 0.0050 - mae: 0.0544\n",
            "Epoch 30/45\n",
            "100/100 [==============================] - 0s 1ms/step - loss: 0.0041 - mae: 0.0487\n",
            "Epoch 31/45\n",
            "100/100 [==============================] - 0s 1ms/step - loss: 0.0038 - mae: 0.0459\n",
            "Epoch 32/45\n",
            "100/100 [==============================] - 0s 1ms/step - loss: 0.0041 - mae: 0.0484\n",
            "Epoch 33/45\n",
            "100/100 [==============================] - 0s 1ms/step - loss: 0.0038 - mae: 0.0447\n",
            "Epoch 34/45\n",
            "100/100 [==============================] - 0s 1ms/step - loss: 0.0042 - mae: 0.0480\n",
            "Epoch 35/45\n",
            "100/100 [==============================] - 0s 1ms/step - loss: 0.0042 - mae: 0.0480\n",
            "Epoch 36/45\n",
            "100/100 [==============================] - 0s 1ms/step - loss: 0.0042 - mae: 0.0488\n",
            "Epoch 37/45\n",
            "100/100 [==============================] - 0s 1ms/step - loss: 0.0035 - mae: 0.0437\n",
            "Epoch 38/45\n",
            "100/100 [==============================] - 0s 1ms/step - loss: 0.0041 - mae: 0.0489\n",
            "Epoch 39/45\n",
            "100/100 [==============================] - 0s 1ms/step - loss: 0.0037 - mae: 0.0448\n",
            "Epoch 40/45\n",
            "100/100 [==============================] - 0s 1ms/step - loss: 0.0038 - mae: 0.0476\n",
            "Epoch 41/45\n",
            "100/100 [==============================] - 0s 1ms/step - loss: 0.0040 - mae: 0.0470\n",
            "Epoch 42/45\n",
            "100/100 [==============================] - 0s 1ms/step - loss: 0.0041 - mae: 0.0479\n",
            "Epoch 43/45\n",
            "100/100 [==============================] - 0s 1ms/step - loss: 0.0035 - mae: 0.0436\n",
            "Epoch 44/45\n",
            "100/100 [==============================] - 0s 1ms/step - loss: 0.0035 - mae: 0.0436\n",
            "Epoch 45/45\n",
            "100/100 [==============================] - 0s 1ms/step - loss: 0.0042 - mae: 0.0490\n",
            "R squared = 0.7825831262456544\n"
          ]
        }
      ]
    }
  ]
}